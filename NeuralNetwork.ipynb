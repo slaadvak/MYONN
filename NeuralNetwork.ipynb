{
 "cells": [
  {
   "cell_type": "code",
   "execution_count": 8,
   "metadata": {
    "collapsed": true
   },
   "outputs": [],
   "source": [
    "import NeuralNetwork as NN\n",
    "n = NN.NeuralNetwork(784, 300, 10, 0.01)"
   ]
  },
  {
   "cell_type": "code",
   "execution_count": 6,
   "metadata": {},
   "outputs": [
    {
     "name": "stdout",
     "output_type": "stream",
     "text": [
      "Epoch: 1 (1)\r",
      "Epoch: 1 (2)\r",
      "Epoch: 1 (3)\r",
      "Epoch: 1 (4)\r",
      "Epoch: 1 (5)\r",
      "Epoch: 1 (6)\r",
      "Epoch: 1 (7)\r",
      "Epoch: 1 (8)\r",
      "Epoch: 1 (9)\r",
      "Epoch: 1 (10)\r",
      "Epoch: 1 (11)\r",
      "Epoch: 1 (12)\r",
      "Epoch: 1 (13)\r",
      "Epoch: 1 (14)\r",
      "Epoch: 1 (15)\r",
      "Epoch: 1 (16)\r",
      "Epoch: 1 (17)\r",
      "Epoch: 1 (18)\r",
      "Epoch: 1 (19)\r",
      "Epoch: 1 (20)\r",
      "Epoch: 1 (21)\r",
      "Epoch: 1 (22)\r",
      "Epoch: 1 (23)\r",
      "Epoch: 1 (24)\r",
      "Epoch: 1 (25)\r",
      "Epoch: 1 (26)\r",
      "Epoch: 1 (27)\r",
      "Epoch: 1 (28)\r",
      "Epoch: 1 (29)\r",
      "Epoch: 1 (30)\r",
      "Epoch: 1 (31)\r",
      "Epoch: 1 (32)\r",
      "Epoch: 1 (33)\r",
      "Epoch: 1 (34)\r",
      "Epoch: 1 (35)\r",
      "Epoch: 1 (36)\r",
      "Epoch: 1 (37)\r",
      "Epoch: 1 (38)\r",
      "Epoch: 1 (39)\r",
      "Epoch: 1 (40)\r",
      "Epoch: 1 (41)\r",
      "Epoch: 1 (42)\r",
      "Epoch: 1 (43)\r",
      "Epoch: 1 (44)\r",
      "Epoch: 1 (45)\r",
      "Epoch: 1 (46)\r",
      "Epoch: 1 (47)\r",
      "Epoch: 1 (48)\r",
      "Epoch: 1 (49)\r",
      "Epoch: 1 (50)\r",
      "Epoch: 1 (51)\r",
      "Epoch: 1 (52)\r",
      "Epoch: 1 (53)\r",
      "Epoch: 1 (54)\r",
      "Epoch: 1 (55)\r",
      "Epoch: 1 (56)\r",
      "Epoch: 1 (57)\r",
      "Epoch: 1 (58)\r",
      "Epoch: 1 (59)\r",
      "Epoch: 1 (60)\r",
      "Epoch: 1 (61)\r",
      "Epoch: 1 (62)\r",
      "Epoch: 1 (63)\r",
      "Epoch: 1 (64)\r",
      "Epoch: 1 (65)\r",
      "Epoch: 1 (66)\r",
      "Epoch: 1 (67)\r",
      "Epoch: 1 (68)\r",
      "Epoch: 1 (69)\r",
      "Epoch: 1 (70)\r",
      "Epoch: 1 (71)\r",
      "Epoch: 1 (72)\r",
      "Epoch: 1 (73)\r",
      "Epoch: 1 (74)\r",
      "Epoch: 1 (75)\r",
      "Epoch: 1 (76)\r",
      "Epoch: 1 (77)\r",
      "Epoch: 1 (78)\r",
      "Epoch: 1 (79)\r",
      "Epoch: 1 (80)\r",
      "Epoch: 1 (81)\r",
      "Epoch: 1 (82)\r",
      "Epoch: 1 (83)\r",
      "Epoch: 1 (84)\r",
      "Epoch: 1 (85)\r",
      "Epoch: 1 (86)\r",
      "Epoch: 1 (87)\r",
      "Epoch: 1 (88)\r",
      "Epoch: 1 (89)\r",
      "Epoch: 1 (90)\r",
      "Epoch: 1 (91)\r",
      "Epoch: 1 (92)\r",
      "Epoch: 1 (93)\r",
      "Epoch: 1 (94)\r",
      "Epoch: 1 (95)\r",
      "Epoch: 1 (96)\r",
      "Epoch: 1 (97)\r",
      "Epoch: 1 (98)\r",
      "Epoch: 1 (99)\r",
      "Epoch: 1 (100)\r",
      "Trained with a dataset of 100 records for 1 epochs.\n"
     ]
    }
   ],
   "source": [
    "n.train_dataset('datasets/mnist_train_100.csv', epochs=1, rotate_left=None, rotate_right=None)"
   ]
  },
  {
   "cell_type": "code",
   "execution_count": 13,
   "metadata": {
    "scrolled": false
   },
   "outputs": [
    {
     "name": "stdout",
     "output_type": "stream",
     "text": [
      "201 errors on 10000 records\n",
      "Accuracy of 97.99%\n"
     ]
    }
   ],
   "source": [
    "n.test_dataset('datasets/mnist_test.csv', show_errors=False)"
   ]
  },
  {
   "cell_type": "code",
   "execution_count": null,
   "metadata": {
    "collapsed": true
   },
   "outputs": [],
   "source": [
    "n.load(\"snapshots/250-10-01.npy\")"
   ]
  },
  {
   "cell_type": "code",
   "execution_count": null,
   "metadata": {
    "collapsed": true
   },
   "outputs": [],
   "source": [
    "n.load(\"snapshots/300-30-001.npy\")"
   ]
  },
  {
   "cell_type": "code",
   "execution_count": 9,
   "metadata": {
    "collapsed": true
   },
   "outputs": [],
   "source": [
    "n.load(\"snapshots/300-30-L10-R10-001.npy\")"
   ]
  }
 ],
 "metadata": {
  "kernelspec": {
   "display_name": "Python 3",
   "language": "python",
   "name": "python3"
  },
  "language_info": {
   "codemirror_mode": {
    "name": "ipython",
    "version": 3
   },
   "file_extension": ".py",
   "mimetype": "text/x-python",
   "name": "python",
   "nbconvert_exporter": "python",
   "pygments_lexer": "ipython3",
   "version": "3.6.3"
  }
 },
 "nbformat": 4,
 "nbformat_minor": 2
}
